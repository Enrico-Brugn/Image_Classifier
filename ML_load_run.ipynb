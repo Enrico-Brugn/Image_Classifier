{
 "cells": [
  {
   "cell_type": "code",
   "execution_count": 6,
   "metadata": {},
   "outputs": [],
   "source": [
    "from data_loader import WireDataset\n",
    "import torch\n",
    "import math\n",
    "from torch.utils.data import DataLoader\n",
    "from ML import Net\n",
    "import torch.nn.functional as F\n",
    "import matplotlib.pyplot as plt"
   ]
  },
  {
   "cell_type": "code",
   "execution_count": 7,
   "metadata": {},
   "outputs": [],
   "source": [
    "dataset = WireDataset(\"Input_Data.csv\")\n",
    "\n",
    "\n",
    "if torch.cuda.is_available():\n",
    "    device = \"cuda\"\n",
    "else:\n",
    "    device = \"cpu\""
   ]
  },
  {
   "cell_type": "code",
   "execution_count": 8,
   "metadata": {},
   "outputs": [],
   "source": [
    "generator = torch.Generator().manual_seed(4)\n",
    "\n",
    "train_fraction = math.floor(len(dataset)*0.7)\n",
    "test_fraction = len(dataset) - train_fraction\n",
    "\n",
    "test_data_ind, train_data_ind = torch.utils.data.random_split(dataset, [test_fraction, train_fraction], generator = generator)\n",
    "\n",
    "dl_train = DataLoader(train_data_ind, batch_size=20, shuffle=True)\n",
    "dl_test = DataLoader(test_data_ind, batch_size=1, shuffle=True)\n",
    "\n",
    "net = Net()\n",
    "optimizer = torch.optim.SGD(net.parameters(), lr=0.0001)\n",
    "\n",
    "criterion = torch.nn.CrossEntropyLoss()\n",
    "optimizer = torch.optim.SGD(net.parameters(), lr=0.001, momentum=0.9)"
   ]
  },
  {
   "cell_type": "code",
   "execution_count": null,
   "metadata": {},
   "outputs": [],
   "source": [
    "for epoch in range(100):  # loop over the dataset multiple times\n",
    "\n",
    "    running_loss = 0.0\n",
    "    net.train()\n",
    "    for i, data in enumerate(dl_train, 0):\n",
    "        # get the inputs; data is a list of [inputs, labels]\n",
    "        inputs, labels = data\n",
    "\n",
    "        # zero the parameter gradients\n",
    "        optimizer.zero_grad()\n",
    "\n",
    "        # forward + backward + optimize\n",
    "        outputs = net(inputs)\n",
    "        loss = criterion(outputs, labels)\n",
    "        loss.backward()\n",
    "        optimizer.step()\n",
    "\n",
    "        # print statistics\n",
    "        running_loss += loss.item()\n",
    "        if i % 10 == 9:    # print every 30 mini-batches\n",
    "            print(f'[{epoch + 1}, {i + 1:5d}] loss: {running_loss / 10:.3f}')\n",
    "            running_loss = 0.0\n",
    "        \n",
    "            \n",
    "    # net.eval()\n",
    "    # running_loss = 0.0\n",
    "    # for i, data in enumerate(dl_test, 0):\n",
    "    #     inputs, labels = data\n",
    "    #     # forward + backward + optimize\n",
    "    #     outputs = net(inputs)\n",
    "    #     loss = criterion(outputs, labels)\n",
    "    #     # print statistics\n",
    "    #     running_loss += loss.item()\n",
    "    #     if i % 10 == 9:    # print every 30 mini-batches\n",
    "    #         print(f'[{epoch + 1}, {i + 1:5d}] loss: {running_loss / 10:.3f}')\n",
    "    #         running_loss = 0.0\n",
    "    #         print(outputs)\n",
    "    #         plt.imshow(inputs.squeeze().detach())\n",
    "    #         plt.savefig(\"res1.png\")\n",
    "    #         input()"
   ]
  },
  {
   "cell_type": "code",
   "execution_count": null,
   "metadata": {},
   "outputs": [],
   "source": [
    "print('Finished Training')"
   ]
  }
 ],
 "metadata": {
  "kernelspec": {
   "display_name": "py37",
   "language": "python",
   "name": "python3"
  },
  "language_info": {
   "codemirror_mode": {
    "name": "ipython",
    "version": 3
   },
   "file_extension": ".py",
   "mimetype": "text/x-python",
   "name": "python",
   "nbconvert_exporter": "python",
   "pygments_lexer": "ipython3",
   "version": "3.7.13"
  },
  "orig_nbformat": 4
 },
 "nbformat": 4,
 "nbformat_minor": 2
}
