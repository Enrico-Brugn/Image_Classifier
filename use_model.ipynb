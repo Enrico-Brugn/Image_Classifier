{
 "cells": [
  {
   "cell_type": "code",
   "execution_count": null,
   "metadata": {},
   "outputs": [],
   "source": [
    "# Import necessary libraries and modules\n",
    "import torch\n",
    "import torch.nn.functional as F\n",
    "import torchvision.transforms as T\n",
    "from ML import Net\n",
    "import cv2\n",
    "import matplotlib.pyplot as plt\n"
   ]
  },
  {
   "cell_type": "code",
   "execution_count": null,
   "metadata": {},
   "outputs": [],
   "source": [
    "# Initialize the neural network model\n",
    "net = Net()\n",
    "\n",
    "# Load the trained model parameters\n",
    "net.load_state_dict(torch.load(\"model_07_25.ebr\"))\n",
    "\n",
    "# Set the model to evaluation mode\n",
    "net.eval()\n",
    "\n",
    "# Define the mapping from class indices to class names\n",
    "mapping = ['Parasitic', 'Wire_Straight_Defect', 'Wire_Straight_Perfect' , 'Wire_Tilted_Defect', 'Wire_Tilted_Perfect', 'Null']"
   ]
  },
  {
   "cell_type": "code",
   "execution_count": null,
   "metadata": {},
   "outputs": [],
   "source": [
    "# Define a function to convert an image file to a tensor\n",
    "def tensor_generator(path):\n",
    "    # Load the image in grayscale\n",
    "    image_loaded = cv2.imread(path, cv2.IMREAD_GRAYSCALE)\n",
    "    \n",
    "    # Define the transformation pipeline\n",
    "    transform = T.Compose([T.ToPILImage(), T.Resize((178,55)), T.ToTensor()])\n",
    "    \n",
    "    # Apply the transformations to the image and add a batch dimension\n",
    "    image = transform(image_loaded).unsqueeze(0)\n",
    "\n",
    "    return image"
   ]
  },
  {
   "cell_type": "code",
   "execution_count": null,
   "metadata": {},
   "outputs": [],
   "source": [
    "# Define the path to the image file\n",
    "image_path = \"/home/enrico/Desktop/Genetic_Algorithm/wires/DE22_280nm_002_13.tiff\"\n",
    "\n",
    "# Generate predictions for the image\n",
    "pred = net(tensor_generator(image_path))\n",
    "\n",
    "# Apply the softmax function to the predictions to get probabilities\n",
    "probs = F.softmax(pred, dim=1)\n",
    "\n",
    "# Get the index of the class with the highest probability\n",
    "guess = torch.argmax(probs).item()\n",
    "\n",
    "# Print the name of the predicted class\n",
    "print(f\"Best guess: {mapping[guess]}\")\n",
    "\n",
    "# Display the image\n",
    "plt.imshow(cv2.imread(image_path), cmap='Greys_r')\n",
    "plt.show()"
   ]
  }
 ],
 "metadata": {
  "kernelspec": {
   "display_name": "py37",
   "language": "python",
   "name": "python3"
  },
  "language_info": {
   "codemirror_mode": {
    "name": "ipython",
    "version": 3
   },
   "file_extension": ".py",
   "mimetype": "text/x-python",
   "name": "python",
   "nbconvert_exporter": "python",
   "pygments_lexer": "ipython3",
   "version": "3.7.16"
  },
  "orig_nbformat": 4
 },
 "nbformat": 4,
 "nbformat_minor": 2
}
