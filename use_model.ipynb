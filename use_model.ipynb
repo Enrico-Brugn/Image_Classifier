{
 "cells": [
  {
   "cell_type": "code",
   "execution_count": null,
   "metadata": {},
   "outputs": [],
   "source": [
    "import torch\n",
    "import torch.nn.functional as F\n",
    "import torchvision.transforms as T\n",
    "from ML import Net\n",
    "import cv2\n",
    "\n"
   ]
  },
  {
   "cell_type": "code",
   "execution_count": null,
   "metadata": {},
   "outputs": [],
   "source": [
    "net = Net()\n",
    "net.load_state_dict(torch.load(\"model.ebr\"))\n",
    "net.eval()"
   ]
  },
  {
   "cell_type": "code",
   "execution_count": null,
   "metadata": {},
   "outputs": [],
   "source": [
    "def tensor_generator(path):\n",
    "    image_loaded = cv2.imread(path, cv2.IMREAD_GRAYSCALE)\n",
    "    transform = T.Compose([T.ToPILImage(), T.Resize((178,55)), T.ToTensor()])\n",
    "    image = transform(image_loaded).unsqueeze(0)\n",
    "\n",
    "    return image"
   ]
  },
  {
   "cell_type": "code",
   "execution_count": null,
   "metadata": {},
   "outputs": [],
   "source": [
    "image_path = \"/home/enrico/Desktop/Genetic_Algorithm/wires/EBR_GenB_DE42_280nm_004_49.tiff\"\n",
    "\n",
    "prob = (tensor_generator(image_path))\n"
   ]
  }
 ],
 "metadata": {
  "language_info": {
   "name": "python"
  },
  "orig_nbformat": 4
 },
 "nbformat": 4,
 "nbformat_minor": 2
}
