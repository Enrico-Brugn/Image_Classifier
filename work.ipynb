{
 "cells": [
  {
   "cell_type": "code",
   "execution_count": null,
   "metadata": {},
   "outputs": [],
   "source": [
    "import numpy as np\n",
    "import cv2\n",
    "import matplotlib.pyplot as plt\n",
    "import os\n",
    "import copy\n",
    "from scipy.stats import mode\n",
    "from scipy import ndimage\n",
    "\n",
    "img_path = \"/home/enrico/Desktop/Wires_Stat/ebr_GenesisF_binary_survey4statistics/DE11_210nm_004.tif\"\n",
    "img = cv2.imread(img_path, 0)\n",
    "img = cv2.fastNlMeansDenoising(img[100 : img.shape[0] - 200, \n",
    "           50 : img.shape[1]- 50],dst=img,h=30)\n",
    "\n",
    "plt.imshow(img, cmap='Greys_r')\n",
    "plt.show()"
   ]
  },
  {
   "cell_type": "code",
   "execution_count": null,
   "metadata": {},
   "outputs": [],
   "source": [
    "\n",
    "def min_pool(img, sz = (5,2), stride = (5,1)):\n",
    "    im = copy.deepcopy(img)\n",
    "    im_size = img.shape\n",
    "\n",
    "    for i in range(0, im_size[0], stride[0]):\n",
    "        for j in range(0, im_size[1], stride[1]):\n",
    "            im[i : i + sz[0], j : j + sz[1]] = np.min(im[i : i + sz[0],j : j + sz[1]])\n",
    "    return im\n"
   ]
  },
  {
   "cell_type": "code",
   "execution_count": null,
   "metadata": {},
   "outputs": [],
   "source": [
    "\n",
    "def max_pool(img, sz = (5,2), stride = (5,1)):\n",
    "    im = copy.deepcopy(img)\n",
    "    im_size = img.shape\n",
    "\n",
    "    for i in range(0, im_size[0], stride[0]):\n",
    "        for j in range(0, im_size[1], stride[1]):\n",
    "            im[i : i + sz[0], j : j + sz[1]] = np.max(im[i : i + sz[0],j : j + sz[1]])\n",
    "    return im\n"
   ]
  },
  {
   "cell_type": "code",
   "execution_count": null,
   "metadata": {},
   "outputs": [],
   "source": [
    "def cut(A):\n",
    "    print(A.shape)\n",
    "    min_pl = min_pool(A)[A.shape[0]//3:2*A.shape[0]//3]\n",
    "    # plt.imshow(min_pl, cmap='Greys_r')\n",
    "    # plt.show()\n",
    "    max_pl = max_pool(A)[A.shape[0]//3:2*A.shape[0]//3]\n",
    "    # plt.imshow(max_pl, cmap='Greys_r')\n",
    "    # plt.show()\n",
    "    \n",
    "    avg_min = np.min(min_pl, axis=0)\n",
    "    avg_max = np.max(max_pl, axis=0)\n",
    "    # plt.plot(avg_min)\n",
    "    # plt.plot(avg_max)\n",
    "    \n",
    "    \n",
    "    grad_min = np.abs(np.gradient(avg_min))\n",
    "    grad_max = np.abs(np.gradient(avg_max))\n",
    "    # plt.plot(grad_min)\n",
    "    # plt.plot(grad_max)\n",
    "    # plt.show()\n",
    "\n",
    "    cut_point_1 = np.argmax(grad_min)+1\n",
    "    cut_point_2 = np.argmax(grad_max)+1\n",
    "    print(\"in cut\")\n",
    "    print(cut_point_1,cut_point_2)\n",
    "    cut_point = cut_point_1 if cut_point_1>cut_point_2 else cut_point_2\n",
    "\n",
    "    img1 = A[:,cut_point :]\n",
    "    return img1"
   ]
  },
  {
   "cell_type": "code",
   "execution_count": null,
   "metadata": {},
   "outputs": [],
   "source": [
    "def cut_side(img1 , sides):\n",
    "    \n",
    "    for side in sides:\n",
    "        if side == 1:\n",
    "            img1 = cut(img1)\n",
    "        if side == 2:\n",
    "            img1 = np.fliplr(img1)\n",
    "            img1 = cut(img1)\n",
    "            img1 = np.fliplr(img1)\n",
    "        if side == 3:\n",
    "            img1 = np.rot90(img1,3)\n",
    "            img1 = cut(img1)\n",
    "            img1 = np.rot90(img1)\n",
    "        if side == 4:\n",
    "            img1 = np.rot90(img1)\n",
    "            img1 = cut(img1)\n",
    "            img1 = np.rot90(img1,3)\n",
    "    return img1\n",
    "\n",
    "def split(img1, num):\n",
    "    arrays = np.array_split(img1,num,axis=1)\n",
    "    \n",
    "    if num == 2:\n",
    "        arrays[1] = np.fliplr(arrays[1])\n",
    "    return arrays\n",
    "\n",
    "\n",
    "\n",
    "\n",
    "\n"
   ]
  },
  {
   "cell_type": "code",
   "execution_count": null,
   "metadata": {},
   "outputs": [],
   "source": [
    "work_img = copy.deepcopy(img)\n",
    "arr1 = cut_side(work_img, [1,2,3,4])"
   ]
  },
  {
   "cell_type": "code",
   "execution_count": null,
   "metadata": {},
   "outputs": [],
   "source": [
    "def canny_edge_detect(img, save_ced = False):\n",
    "    ced = cv2.Canny(img, 20, 150, 1)\n",
    "    if save_ced:\n",
    "        cv2.imwrite(\"ced.tiff\", ced)\n",
    "    return ced"
   ]
  },
  {
   "cell_type": "code",
   "execution_count": null,
   "metadata": {},
   "outputs": [],
   "source": [
    "def sobel_filters(img, inv):\n",
    "    Kx = inv*np.array([[-1, 0, 1],[-1, 0, 1],[-1, 0, 1]], np.float32)\n",
    "    Ky = np.array([[0,0,0],[0,0,0],[0,0,0]], np.float32)\n",
    "    \n",
    "    Ix = ndimage.filters.convolve(img, Kx)\n",
    "    Iy = ndimage.filters.convolve(img, Ky)\n",
    "    \n",
    "    G = np.hypot(Ix, Iy)\n",
    "    G = G / G.max() * 255\n",
    "    # theta = np.arctan2(Iy, Ix)\n",
    "    \n",
    "    return G"
   ]
  },
  {
   "cell_type": "code",
   "execution_count": null,
   "metadata": {},
   "outputs": [],
   "source": [
    "def gauss_smooth(img, save_gsm = False):\n",
    "    gsm = cv2.GaussianBlur(img, (7, 7), 0)\n",
    "    if save_gsm:\n",
    "        cv2.imwrite(\"gsm.tiff\", gsm)\n",
    "    return gsm"
   ]
  },
  {
   "cell_type": "code",
   "execution_count": null,
   "metadata": {},
   "outputs": [],
   "source": [
    "arr2 = split(arr1, 3)\n",
    "arr2[0] = cut_side(arr2[0], [2])\n",
    "arr2[1] = cut_side(arr2[1], [1,2])\n",
    "\n",
    "arr2[2] = cut_side(arr2[2], [1])\n",
    "\n",
    "arr3 = []\n",
    "for i in arr2:\n",
    "    arr3.extend(split(i, 2))\n",
    "\n",
    "for j in np.arange(len(arr3)):\n",
    "    arr3[j]=gauss_smooth(arr3[j])\n",
    "\n",
    "for x in np.arange(len(arr3)):\n",
    "    plt.imshow(arr3[x], cmap='Greys_r')\n",
    "    plt.show()\n"
   ]
  },
  {
   "cell_type": "code",
   "execution_count": null,
   "metadata": {},
   "outputs": [],
   "source": [
    "def hist_equal(img):\n",
    "    heq = cv2.equalizeHist(img)\n",
    "    # cv2.imwrite(\"heq.tiff\", heq)\n",
    "    return heq"
   ]
  },
  {
   "cell_type": "code",
   "execution_count": null,
   "metadata": {},
   "outputs": [],
   "source": [
    "def clahe(img):\n",
    "    cla_he = cv2.createCLAHE(tileGridSize = (8, 8))\n",
    "    cla = cla_he.apply(img)\n",
    "    # cv2.imwrite(\"cla.tiff\", cla)\n",
    "    return cla"
   ]
  },
  {
   "cell_type": "code",
   "execution_count": null,
   "metadata": {},
   "outputs": [],
   "source": [
    "for i in arr3[0:1]:\n",
    "    # fig, ax = plt.subplots(ncols=3, figsize =(12,24))\n",
    "    # mx = np.maximum(sobel_filters(max_pool(i, sz=(2,2),stride=(2,1)),-1),sobel_filters(min_pool(i, sz=(2,2),stride=(2,1)),1))\n",
    "    # print(mx.shape)\n",
    "    # ax[0].imshow(, cmap='Greys_r')\n",
    "    # ax[1].imshow(, cmap='Greys_r')\n",
    "    mm = copy.deepcopy(i)\n",
    "    # mp = max_pool(mm, sz=(2,2),stride=(2,1))\n",
    "    # mn = min_pool(mm, sz=(2,2),stride=(2,1))\n",
    "    mm = np.rot90(mm)\n",
    "    mm = split(mm, 11)\n",
    "    mm = [np.rot90(i,3) for i in mm]\n",
    "    \n",
    "    for i,j in enumerate(mm):\n",
    "        plt.imsave(\"out\"+str(i)+\".png\",(j-j.min())/(j.max()-j.min()))\n",
    "        # plt.show()\n",
    "    \n",
    "    # # temp = sobel_filters(mp,-1)\n",
    "    \n",
    "    # # temp = temp.astype(np.uint8)\n",
    "    # # print(type(temp[0][0]))\n",
    "    # # print(type(mp[0][0]))(sobel_filters(mn,1))\n",
    "    \n",
    "    \n",
    "    \n",
    "    \n",
    "    # back_edge = canny_edge_detect(sobel_filters(mn,1).astype(np.uint8))\n",
    "    \n",
    "    # temp = sobel_filters(mp,-1)\n",
    "    # temp[np.where(temp<50)]=0\n",
    "    # front_edge = canny_edge_detect(temp.astype(np.uint8))\n",
    "    \n",
    "    \n",
    "    # maxx = np.maximum(back_edge,front_edge)\n",
    "    \n",
    "    # print(back_edge.max(),back_edge.min())\n",
    "    # print(front_edge.max(),front_edge.min())\n",
    "    \n",
    "    # ax[0].imshow(front_edge, cmap='Greys_r')\n",
    "    # ax[1].imshow(back_edge, cmap='Greys_r')\n",
    "    \n",
    "   \n",
    "    # # maxx = np.rot90(maxx)\n",
    "    # # maxx = split(maxx,11)\n",
    "    # ax[2].imshow(maxx, cmap='Greys_r')\n",
    "    \n",
    "    # temp[np.where(temp>150)]=255\n",
    "    # ax[3].imshow(temp, cmap='Greys_r')\n",
    "    \n",
    "    fig.show()\n"
   ]
  },
  {
   "cell_type": "code",
   "execution_count": null,
   "metadata": {},
   "outputs": [],
   "source": [
    "from scipy.signal import savgol_filter\n"
   ]
  },
  {
   "cell_type": "code",
   "execution_count": null,
   "metadata": {},
   "outputs": [],
   "source": [
    "avg_min = np.average(maxx, axis=0)\n",
    "avg_grad = np.gradient(avg_min, axis=0)\n",
    "avg_grad = savgol_filter(avg_grad, 11, 2)\n",
    "avg_grad = savgol_filter(avg_grad, 11, 2)\n",
    "\n",
    "\n",
    "\n",
    "\n",
    "# plt.plot(avg_min)\n",
    "plt.plot(avg_min)\n",
    "avg_grad = avg_grad/avg_grad\n",
    "plt.plot(avg_grad)\n",
    "plt.show()\n",
    "\n",
    "print(avg_grad)"
   ]
  }
 ],
 "metadata": {
  "kernelspec": {
   "display_name": "Python 3.7.13 ('py37')",
   "language": "python",
   "name": "python3"
  },
  "language_info": {
   "codemirror_mode": {
    "name": "ipython",
    "version": 3
   },
   "file_extension": ".py",
   "mimetype": "text/x-python",
   "name": "python",
   "nbconvert_exporter": "python",
   "pygments_lexer": "ipython3",
   "version": "3.7.13"
  },
  "orig_nbformat": 4,
  "vscode": {
   "interpreter": {
    "hash": "2385dff769aabbb7aecaad2319da9836fda0e9b64db19c244ef50a2a8f47e85c"
   }
  }
 },
 "nbformat": 4,
 "nbformat_minor": 2
}
